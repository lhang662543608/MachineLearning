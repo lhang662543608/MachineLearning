{
 "cells": [
  {
   "cell_type": "markdown",
   "metadata": {},
   "source": [
    "## Numpy的基本操作\n",
    "1. 数组与标量、数组之间的运算\n",
    "2. 数组的矩阵积(matrix product)\n",
    "3. 数组的索引与切片\n",
    "4. 数组的转置与轴对换\n",
    "5. 通用函数：快速的元素级数组成函数\n",
    "6. 聚合函数\n",
    "7. np.where函数\n",
    "8. np.unique函数"
   ]
  },
  {
   "cell_type": "markdown",
   "metadata": {},
   "source": [
    "### 1、数组与标量、数组之间的运算"
   ]
  },
  {
   "cell_type": "markdown",
   "metadata": {},
   "source": [
    "* 数组不用循环即可对每个元素执行批量的算术运算操作，这个过程叫做矢量化，即用数组表达式代替循环的做法。\n",
    "* 大小相等的两个数组之间的任何算术运算都会将其运算应用到元素级上的操作。  \n",
    "#### 什么是元素级运算？？  \n",
    "&nbsp;&nbsp;&nbsp;&nbsp;在NumPy中，大小相等的数组之间的运算，为元素级运算，即只用于位置相同的元素之间，所得的运算结果组成一个新的数组，运算结果的位置跟操作数位置相同。"
   ]
  },
  {
   "cell_type": "code",
   "execution_count": 1,
   "metadata": {},
   "outputs": [],
   "source": [
    "import numpy as np"
   ]
  },
  {
   "cell_type": "code",
   "execution_count": 2,
   "metadata": {},
   "outputs": [],
   "source": [
    "arr1 = np.array([1,2,3,4,5])"
   ]
  },
  {
   "cell_type": "code",
   "execution_count": 3,
   "metadata": {},
   "outputs": [
    {
     "name": "stdout",
     "output_type": "stream",
     "text": [
      "arr1: [1 2 3 4 5]\n",
      "arr1+4: [5 6 7 8 9]\n",
      "arr1*5: [ 5 10 15 20 25]\n",
      "arr1-3: [-2 -1  0  1  2]\n",
      "arr1/2.0: [0.5 1.  1.5 2.  2.5]\n",
      "1.0/arr1: [1.         0.5        0.33333333 0.25       0.2       ]\n",
      "arr1**2: [ 1  4  9 16 25]\n",
      "2**arr1: [ 2  4  8 16 32]\n"
     ]
    }
   ],
   "source": [
    "print(\"arr1:\",arr1)\n",
    "print(\"arr1+4:\",arr1+4)\n",
    "print(\"arr1*5:\",arr1*5)\n",
    "print(\"arr1-3:\",arr1-3)\n",
    "print(\"arr1/2.0:\",arr1/2.0)\n",
    "print(\"1.0/arr1:\",1.0/arr1)\n",
    "print(\"arr1**2:\",arr1**2)\n",
    "print(\"2**arr1:\",2**arr1)"
   ]
  },
  {
   "cell_type": "code",
   "execution_count": 4,
   "metadata": {},
   "outputs": [
    {
     "name": "stdout",
     "output_type": "stream",
     "text": [
      "=====arr1 + arr2=====\n",
      "[[5.6 5.2 5.1]\n",
      " [9.2 9.3 9.4]]\n",
      "=====arr1 - arr2=====\n",
      "[[-3.6 -1.2  0.9]\n",
      " [-1.2  0.7  2.6]]\n",
      "=====arr1 * arr2=====\n",
      "[[ 4.6  6.4  6.3]\n",
      " [20.8 21.5 20.4]]\n",
      "=====arr1 / arr2=====\n",
      "[[0.2173913  0.625      1.42857143]\n",
      " [0.76923077 1.1627907  1.76470588]]\n",
      "=====arr1 ** arr2=====\n",
      "[[1.00000000e+00 9.18958684e+00 1.00451086e+01]\n",
      " [1.35117610e+03 1.01291037e+03 4.42297262e+02]]\n"
     ]
    }
   ],
   "source": [
    "arr1 = np.array([[1,2,3],[4,5,6]])\n",
    "arr2 = np.array([[4.6,3.2,2.1],[5.2,4.3,3.4]])\n",
    "print(\"=====arr1 + arr2=====\")\n",
    "print(arr1 + arr2)\n",
    "print(\"=====arr1 - arr2=====\")\n",
    "print(arr1 - arr2)\n",
    "print(\"=====arr1 * arr2=====\")\n",
    "print(arr1 * arr2)\n",
    "print(\"=====arr1 / arr2=====\")\n",
    "print(arr1 / arr2)\n",
    "print(\"=====arr1 ** arr2=====\")\n",
    "print(arr1 ** arr2)"
   ]
  },
  {
   "cell_type": "markdown",
   "metadata": {},
   "source": [
    "###  2、数组的矩阵积"
   ]
  },
  {
   "cell_type": "markdown",
   "metadata": {},
   "source": [
    "1. 矩阵：多维数组即矩阵  \n",
    "2. 矩阵积：两个二维矩阵(行和列的矩阵)满足第一个矩阵的列数与第二个矩阵的行数相同，那么可以进行矩阵的乘法，即矩阵积，矩阵积不是元素级的运算。也称为点积、数量积。"
   ]
  },
  {
   "cell_type": "code",
   "execution_count": 5,
   "metadata": {},
   "outputs": [],
   "source": [
    "arr = np.array([\n",
    "    [1,0,0],\n",
    "    [0,1,0],\n",
    "    [0,0,1]\n",
    "])\n",
    "arr2 = np.array([\n",
    "    [12,23,34],\n",
    "    [45,56,67],\n",
    "    [78,89,90]\n",
    "])"
   ]
  },
  {
   "cell_type": "code",
   "execution_count": 6,
   "metadata": {},
   "outputs": [
    {
     "data": {
      "text/plain": [
       "array([[12, 23, 34],\n",
       "       [45, 56, 67],\n",
       "       [78, 89, 90]])"
      ]
     },
     "execution_count": 6,
     "metadata": {},
     "output_type": "execute_result"
    }
   ],
   "source": [
    "arr.dot(arr2) # 矩阵的点积运算"
   ]
  },
  {
   "cell_type": "code",
   "execution_count": 7,
   "metadata": {},
   "outputs": [
    {
     "data": {
      "text/plain": [
       "array([[12, 23, 34],\n",
       "       [45, 56, 67],\n",
       "       [78, 89, 90]])"
      ]
     },
     "execution_count": 7,
     "metadata": {},
     "output_type": "execute_result"
    }
   ],
   "source": [
    "np.dot(arr,arr2) # 矩阵的点积运算"
   ]
  },
  {
   "cell_type": "markdown",
   "metadata": {},
   "source": [
    "### 3、数组的索引与切片"
   ]
  },
  {
   "cell_type": "markdown",
   "metadata": {},
   "source": [
    "#### 3.1、数组的索引"
   ]
  },
  {
   "cell_type": "code",
   "execution_count": 8,
   "metadata": {},
   "outputs": [],
   "source": [
    "arr = np.array([\n",
    "    [\n",
    "        [2,3,4,5],[1,3,4,9]\n",
    "    ],\n",
    "    [\n",
    "        [0,3,4,8],[2,4,9,4]\n",
    "    ],\n",
    "    [\n",
    "        [1,4,5,8],[3,4,8,9]\n",
    "    ],\n",
    "    [\n",
    "        [2,3,6,8],[3,4,8,9]\n",
    "    ]\n",
    "])"
   ]
  },
  {
   "cell_type": "code",
   "execution_count": 9,
   "metadata": {},
   "outputs": [
    {
     "data": {
      "text/plain": [
       "(4, 2, 4)"
      ]
     },
     "execution_count": 9,
     "metadata": {},
     "output_type": "execute_result"
    }
   ],
   "source": [
    "arr.shape"
   ]
  },
  {
   "cell_type": "code",
   "execution_count": 10,
   "metadata": {},
   "outputs": [
    {
     "data": {
      "text/plain": [
       "array([[2, 3, 6, 8],\n",
       "       [3, 4, 8, 9]])"
      ]
     },
     "execution_count": 10,
     "metadata": {},
     "output_type": "execute_result"
    }
   ],
   "source": [
    "arr[3]"
   ]
  },
  {
   "cell_type": "code",
   "execution_count": 11,
   "metadata": {},
   "outputs": [
    {
     "data": {
      "text/plain": [
       "array([3, 4, 8, 9])"
      ]
     },
     "execution_count": 11,
     "metadata": {},
     "output_type": "execute_result"
    }
   ],
   "source": [
    "arr[3][1]"
   ]
  },
  {
   "cell_type": "code",
   "execution_count": 12,
   "metadata": {},
   "outputs": [
    {
     "data": {
      "text/plain": [
       "8"
      ]
     },
     "execution_count": 12,
     "metadata": {},
     "output_type": "execute_result"
    }
   ],
   "source": [
    "arr[3][1][2]"
   ]
  },
  {
   "cell_type": "code",
   "execution_count": 13,
   "metadata": {},
   "outputs": [
    {
     "data": {
      "text/plain": [
       "8"
      ]
     },
     "execution_count": 13,
     "metadata": {},
     "output_type": "execute_result"
    }
   ],
   "source": [
    "arr[3,1,2]"
   ]
  },
  {
   "cell_type": "markdown",
   "metadata": {},
   "source": [
    "#### 3.2、数组的切片"
   ]
  },
  {
   "cell_type": "code",
   "execution_count": 14,
   "metadata": {},
   "outputs": [
    {
     "data": {
      "text/plain": [
       "array([[[2, 3, 4, 5],\n",
       "        [1, 3, 4, 9]],\n",
       "\n",
       "       [[0, 3, 4, 8],\n",
       "        [2, 4, 9, 4]],\n",
       "\n",
       "       [[1, 4, 5, 8],\n",
       "        [3, 4, 8, 9]],\n",
       "\n",
       "       [[2, 3, 6, 8],\n",
       "        [3, 4, 8, 9]]])"
      ]
     },
     "execution_count": 14,
     "metadata": {},
     "output_type": "execute_result"
    }
   ],
   "source": [
    "arr"
   ]
  },
  {
   "cell_type": "markdown",
   "metadata": {},
   "source": [
    "`注意Numpy中通过切片得到的新数组，只是原来数组的一个视图，因此对新数组的操作也会影响原数组`"
   ]
  },
  {
   "cell_type": "code",
   "execution_count": 15,
   "metadata": {},
   "outputs": [
    {
     "name": "stdout",
     "output_type": "stream",
     "text": [
      "arr[1]: [[0 3 4 8]\n",
      " [2 4 9 4]]\n",
      "arr[1][0]: [0 3 4 8]\n",
      "arr[1][0][1:3]: [3 4]\n",
      "arr[1][1][1:3]: [4 9]\n",
      "arr[1,:,1:3]: [[3 4]\n",
      " [4 9]]\n"
     ]
    }
   ],
   "source": [
    "print(\"arr[1]:\",arr[1])\n",
    "print(\"arr[1][0]:\",arr[1][0])\n",
    "print(\"arr[1][0][1:3]:\",arr[1][0][1:3])\n",
    "print(\"arr[1][1][1:3]:\",arr[1][1][1:3])\n",
    "print(\"arr[1,:,1:3]:\",arr[1,:,1:3])"
   ]
  },
  {
   "cell_type": "markdown",
   "metadata": {},
   "source": [
    "#### 3.3、布尔类型索引"
   ]
  },
  {
   "cell_type": "markdown",
   "metadata": {},
   "source": [
    "利用布尔类型的数组进行数据索引，最终返回的结果是对应索引数组中数据为True位置的值。"
   ]
  },
  {
   "cell_type": "code",
   "execution_count": 16,
   "metadata": {},
   "outputs": [
    {
     "name": "stdout",
     "output_type": "stream",
     "text": [
      "(4, 4)\n"
     ]
    },
    {
     "data": {
      "text/plain": [
       "array([[0.40027715, 0.1717992 , 0.88439201, 0.91314377],\n",
       "       [0.34685061, 0.46831621, 0.44796692, 0.64287607],\n",
       "       [0.95163845, 0.33149705, 0.63772033, 0.61118452],\n",
       "       [0.06652787, 0.57559591, 0.32088386, 0.34055067]])"
      ]
     },
     "execution_count": 16,
     "metadata": {},
     "output_type": "execute_result"
    }
   ],
   "source": [
    "A = np.random.random((4,4))\n",
    "print(A.shape)\n",
    "A"
   ]
  },
  {
   "cell_type": "code",
   "execution_count": 17,
   "metadata": {},
   "outputs": [
    {
     "name": "stdout",
     "output_type": "stream",
     "text": [
      "(4, 4)\n"
     ]
    },
    {
     "data": {
      "text/plain": [
       "array([[ True,  True, False, False],\n",
       "       [ True,  True,  True, False],\n",
       "       [False,  True, False, False],\n",
       "       [ True, False,  True,  True]])"
      ]
     },
     "execution_count": 17,
     "metadata": {},
     "output_type": "execute_result"
    }
   ],
   "source": [
    "B = A < 0.5\n",
    "print(B.shape)\n",
    "B"
   ]
  },
  {
   "cell_type": "code",
   "execution_count": 18,
   "metadata": {},
   "outputs": [
    {
     "name": "stdout",
     "output_type": "stream",
     "text": [
      "(9,)\n"
     ]
    },
    {
     "data": {
      "text/plain": [
       "array([0.40027715, 0.1717992 , 0.34685061, 0.46831621, 0.44796692,\n",
       "       0.33149705, 0.06652787, 0.32088386, 0.34055067])"
      ]
     },
     "execution_count": 18,
     "metadata": {},
     "output_type": "execute_result"
    }
   ],
   "source": [
    "C = A[B]\n",
    "print(C.shape)\n",
    "C"
   ]
  },
  {
   "cell_type": "code",
   "execution_count": 19,
   "metadata": {},
   "outputs": [
    {
     "name": "stdout",
     "output_type": "stream",
     "text": [
      "Gerry score is : [98 87 86 95]\n",
      "Gerry 数学 score is : [87]\n",
      "Gerry和Tom的成绩\n",
      "[[98 87 86 95]\n",
      " [58 56 54 51]]\n",
      "非Gerry和Tom的成绩\n",
      "[[78 85 85 77]]\n"
     ]
    }
   ],
   "source": [
    "names = np.array(['Gerry','Tom','John'])\n",
    "scores = np.array([\n",
    "    [98,87,86,95],\n",
    "    [58,56,54,51],\n",
    "    [78,85,85,77]\n",
    "])\n",
    "classs = np.array([u'语文',u'数学',u'英语',u'科学'])\n",
    "print(\"Gerry score is :\",scores[names=='Gerry'].reshape((-1)))\n",
    "print(\"Gerry 数学 score is :\",scores[names=='Gerry'].reshape((-1))[classs==u'数学'])\n",
    "print(u'Gerry和Tom的成绩')\n",
    "print(scores[(names == 'Gerry')|(names == u'Tom')])\n",
    "print(u'非Gerry和Tom的成绩')\n",
    "print(scores[(names != 'Gerry')&(names != u'Tom')])"
   ]
  },
  {
   "cell_type": "markdown",
   "metadata": {},
   "source": [
    "### ` Numpy中不能使用python中的and、or、not操作符，使用&（逻辑与）、|（逻辑或）、!（逻辑非）来替换 `  "
   ]
  },
  {
   "cell_type": "markdown",
   "metadata": {},
   "source": [
    "#### 3.4、花式索引"
   ]
  },
  {
   "cell_type": "markdown",
   "metadata": {},
   "source": [
    "花式索引(Fancy indexing)指的是利用整数数组进行索引的方式。"
   ]
  },
  {
   "cell_type": "code",
   "execution_count": 20,
   "metadata": {},
   "outputs": [
    {
     "data": {
      "text/plain": [
       "array([[ 0,  1,  2,  3],\n",
       "       [ 4,  5,  6,  7],\n",
       "       [ 8,  9, 10, 11],\n",
       "       [12, 13, 14, 15],\n",
       "       [16, 17, 18, 19],\n",
       "       [20, 21, 22, 23],\n",
       "       [24, 25, 26, 27],\n",
       "       [28, 29, 30, 31]])"
      ]
     },
     "execution_count": 20,
     "metadata": {},
     "output_type": "execute_result"
    }
   ],
   "source": [
    "arr = np.arange(32).reshape(8,4)\n",
    "arr"
   ]
  },
  {
   "cell_type": "code",
   "execution_count": 21,
   "metadata": {},
   "outputs": [
    {
     "name": "stdout",
     "output_type": "stream",
     "text": [
      "获取第0、3、5行的数据\n",
      "[[ 0  1  2  3]\n",
      " [12 13 14 15]\n",
      " [20 21 22 23]]\n"
     ]
    }
   ],
   "source": [
    "print(u'获取第0、3、5行的数据')\n",
    "print(arr[[0,3,5]])"
   ]
  },
  {
   "cell_type": "code",
   "execution_count": 22,
   "metadata": {},
   "outputs": [
    {
     "name": "stdout",
     "output_type": "stream",
     "text": [
      "获取第（0、0）（3、3）、（5、2）这三个索引位置的数据\n",
      "[ 0 15 22]\n"
     ]
    }
   ],
   "source": [
    "print(u'获取第（0、0）（3、3）、（5、2）这三个索引位置的数据')\n",
    "print(arr[[0,3,5],[0,3,2]])"
   ]
  },
  {
   "cell_type": "code",
   "execution_count": 23,
   "metadata": {},
   "outputs": [
    {
     "name": "stdout",
     "output_type": "stream",
     "text": [
      "获取第0、3、5行的第0、2、3列的数组\n",
      "[[ 0  2  3]\n",
      " [12 14 15]\n",
      " [20 22 23]]\n",
      "\n",
      "[[ 0  2  3]\n",
      " [12 14 15]\n",
      " [20 22 23]]\n"
     ]
    }
   ],
   "source": [
    "print(u'获取第0、3、5行的第0、2、3列的数组')\n",
    "print(arr[[0,3,5]].T[[0,2,3]].T)\n",
    "print()\n",
    "# ix_函数会产生一个索引器\n",
    "print(arr[np.ix_([0,3,5],[0,2,3])])"
   ]
  },
  {
   "cell_type": "markdown",
   "metadata": {},
   "source": [
    "### 4、数组转置与转换"
   ]
  },
  {
   "cell_type": "markdown",
   "metadata": {},
   "source": [
    "1. 数组转置是指将shape进行重置操作，并将其值重置为原始shape元组的倒置，比如原始的shape值为:(2,3,4)，那么转置后的新元组的shape的值为: (4,3,2)f\n",
    "2. 对于二维数组而言(矩阵)数组的转置其实就是矩阵的转置\n",
    "3. 可以通过调用数组的transpose函数或者T属性进行数组转置操作"
   ]
  },
  {
   "cell_type": "code",
   "execution_count": 24,
   "metadata": {},
   "outputs": [
    {
     "name": "stdout",
     "output_type": "stream",
     "text": [
      "原数组的shape: (5, 8)\n"
     ]
    },
    {
     "data": {
      "text/plain": [
       "array([[ 0,  1,  2,  3,  4,  5,  6,  7],\n",
       "       [ 8,  9, 10, 11, 12, 13, 14, 15],\n",
       "       [16, 17, 18, 19, 20, 21, 22, 23],\n",
       "       [24, 25, 26, 27, 28, 29, 30, 31],\n",
       "       [32, 33, 34, 35, 36, 37, 38, 39]])"
      ]
     },
     "execution_count": 24,
     "metadata": {},
     "output_type": "execute_result"
    }
   ],
   "source": [
    "arr = np.arange(40).reshape(5,-1)\n",
    "print(u'原数组的shape:',arr.shape)\n",
    "arr"
   ]
  },
  {
   "cell_type": "code",
   "execution_count": 25,
   "metadata": {},
   "outputs": [
    {
     "name": "stdout",
     "output_type": "stream",
     "text": [
      "通过函数transpose转置后数组的shape值: (8, 5)\n"
     ]
    },
    {
     "data": {
      "text/plain": [
       "array([[ 0,  8, 16, 24, 32],\n",
       "       [ 1,  9, 17, 25, 33],\n",
       "       [ 2, 10, 18, 26, 34],\n",
       "       [ 3, 11, 19, 27, 35],\n",
       "       [ 4, 12, 20, 28, 36],\n",
       "       [ 5, 13, 21, 29, 37],\n",
       "       [ 6, 14, 22, 30, 38],\n",
       "       [ 7, 15, 23, 31, 39]])"
      ]
     },
     "execution_count": 25,
     "metadata": {},
     "output_type": "execute_result"
    }
   ],
   "source": [
    "arr1 = arr.transpose()\n",
    "print('通过函数transpose转置后数组的shape值:',arr1.shape)\n",
    "arr1"
   ]
  },
  {
   "cell_type": "code",
   "execution_count": 26,
   "metadata": {},
   "outputs": [
    {
     "name": "stdout",
     "output_type": "stream",
     "text": [
      "通过属性T转置后数组的shape的值 (8, 5)\n"
     ]
    },
    {
     "data": {
      "text/plain": [
       "array([[ 0,  8, 16, 24, 32],\n",
       "       [ 1,  9, 17, 25, 33],\n",
       "       [ 2, 10, 18, 26, 34],\n",
       "       [ 3, 11, 19, 27, 35],\n",
       "       [ 4, 12, 20, 28, 36],\n",
       "       [ 5, 13, 21, 29, 37],\n",
       "       [ 6, 14, 22, 30, 38],\n",
       "       [ 7, 15, 23, 31, 39]])"
      ]
     },
     "execution_count": 26,
     "metadata": {},
     "output_type": "execute_result"
    }
   ],
   "source": [
    "arr2 = arr.T\n",
    "print('通过属性T转置后数组的shape的值',arr2.shape)\n",
    "arr2"
   ]
  },
  {
   "cell_type": "markdown",
   "metadata": {},
   "source": [
    "### 5、ndarray常用函数"
   ]
  },
  {
   "cell_type": "markdown",
   "metadata": {},
   "source": [
    "#### 5.1、ufunc"
   ]
  },
  {
   "cell_type": "markdown",
   "metadata": {},
   "source": [
    "numpy模块中对ndarray中数据进行快速元素级运算的函数，也可以看做是简单的函数(接受一个或多个标量值，并产生一个或多个标量值)的矢量化包装器。  \n",
    " 主要包括一元函数和二元函数"
   ]
  },
  {
   "cell_type": "markdown",
   "metadata": {},
   "source": [
    "1. abs, fabs&nbsp;&nbsp;计算整数、浮点数或者复数的绝对值，对于非复数，可以使用更快的fabs"
   ]
  },
  {
   "cell_type": "code",
   "execution_count": 27,
   "metadata": {},
   "outputs": [
    {
     "name": "stdout",
     "output_type": "stream",
     "text": [
      "arr = [-5.3 -6.2 -5.   0.   4.2  5.   3.   2.   1. ]\n",
      "np.abs(arr) = [5.3 6.2 5.  0.  4.2 5.  3.  2.  1. ]\n",
      "np.fabs(arr) = [5.3 6.2 5.  0.  4.2 5.  3.  2.  1. ]\n"
     ]
    }
   ],
   "source": [
    "arr = np.array([-5.3,-6.2,-5,0,4.2,5,3,2,1])\n",
    "print(\"arr =\",arr)\n",
    "print(\"np.abs(arr) =\",np.abs(arr))\n",
    "print(\"np.fabs(arr) =\",np.fabs(arr))"
   ]
  },
  {
   "cell_type": "markdown",
   "metadata": {},
   "source": [
    "2. sqrt&nbsp;&nbsp;&nbsp;计算各个元素的平方根，相当于arr ** 0.5， 要求arr的每个元素必须是非负数"
   ]
  },
  {
   "cell_type": "code",
   "execution_count": 28,
   "metadata": {},
   "outputs": [
    {
     "name": "stdout",
     "output_type": "stream",
     "text": [
      "np.sqrt(np.fabs(arr)) = [2.30217289 2.48997992 2.23606798 0.         2.04939015 2.23606798\n",
      " 1.73205081 1.41421356 1.        ]\n"
     ]
    }
   ],
   "source": [
    "print(\"np.sqrt(np.fabs(arr)) =\",np.sqrt(np.fabs(arr)))"
   ]
  },
  {
   "cell_type": "markdown",
   "metadata": {},
   "source": [
    "3. square&nbsp;&nbsp;计算各个元素的评分，相当于arr ** 2"
   ]
  },
  {
   "cell_type": "code",
   "execution_count": 29,
   "metadata": {},
   "outputs": [
    {
     "name": "stdout",
     "output_type": "stream",
     "text": [
      "np.square(arr) = [28.09 38.44 25.    0.   17.64 25.    9.    4.    1.  ]\n"
     ]
    }
   ],
   "source": [
    "print(\"np.square(arr) =\",np.square(arr))"
   ]
  },
  {
   "cell_type": "markdown",
   "metadata": {},
   "source": [
    "4. exp&nbsp;&nbsp;计算各个元素的指数e的x次方"
   ]
  },
  {
   "cell_type": "code",
   "execution_count": 30,
   "metadata": {},
   "outputs": [
    {
     "name": "stdout",
     "output_type": "stream",
     "text": [
      "np.exp(arr) = [4.99159391e-03 2.02943064e-03 6.73794700e-03 1.00000000e+00\n",
      " 6.66863310e+01 1.48413159e+02 2.00855369e+01 7.38905610e+00\n",
      " 2.71828183e+00]\n"
     ]
    }
   ],
   "source": [
    "print(\"np.exp(arr) =\",np.exp(arr))"
   ]
  },
  {
   "cell_type": "markdown",
   "metadata": {},
   "source": [
    "5. log、log10、log2、log1p&nbsp;&nbsp;分别计算自然对数、底数为10的log、底数为2的log以及log(1+x)；要求arr中的每个元素必须为正数"
   ]
  },
  {
   "cell_type": "code",
   "execution_count": 31,
   "metadata": {},
   "outputs": [
    {
     "name": "stdout",
     "output_type": "stream",
     "text": [
      "np.log(log_arr) = [1.84054963 1.97408103 1.79175947 0.         1.64865863 1.79175947\n",
      " 1.38629436 1.09861229 0.69314718]\n",
      "np.log10(log_arr) = [0.79934055 0.8573325  0.77815125 0.         0.71600334 0.77815125\n",
      " 0.60205999 0.47712125 0.30103   ]\n",
      "np.log2(log_arr) = [2.65535183 2.84799691 2.5849625  0.         2.37851162 2.5849625\n",
      " 2.         1.5849625  1.        ]\n",
      "np.log1p(log_arr) = [1.98787435 2.10413415 1.94591015 0.69314718 1.82454929 1.94591015\n",
      " 1.60943791 1.38629436 1.09861229]\n"
     ]
    }
   ],
   "source": [
    "log_arr = np.fabs(arr) + 1\n",
    "print(\"np.log(log_arr) =\",np.log(log_arr))\n",
    "print(\"np.log10(log_arr) =\",np.log10(log_arr))\n",
    "print(\"np.log2(log_arr) =\",np.log2(log_arr))\n",
    "print(\"np.log1p(log_arr) =\",np.log1p(log_arr))"
   ]
  },
  {
   "cell_type": "markdown",
   "metadata": {},
   "source": [
    "6. sign&nbsp;&nbsp;计算各个元素的正负号: 1 正数，0：零，-1：负数\n"
   ]
  },
  {
   "cell_type": "code",
   "execution_count": 32,
   "metadata": {},
   "outputs": [
    {
     "name": "stdout",
     "output_type": "stream",
     "text": [
      "np.sign(arr) = [-1. -1. -1.  0.  1.  1.  1.  1.  1.]\n"
     ]
    }
   ],
   "source": [
    "print(\"np.sign(arr) =\",np.sign(arr))"
   ]
  },
  {
   "cell_type": "markdown",
   "metadata": {},
   "source": [
    "7. ceil&nbsp;&nbsp;计算各个元素的ceiling值，即大于等于该值的最小整数  \n",
    "8. floor&nbsp;&nbsp;计算各个元素的floor值，即小于等于该值的最大整数"
   ]
  },
  {
   "cell_type": "code",
   "execution_count": 33,
   "metadata": {},
   "outputs": [
    {
     "name": "stdout",
     "output_type": "stream",
     "text": [
      "np.ceil(arr) = [-5. -6. -5.  0.  5.  5.  3.  2.  1.]\n",
      "np.floor(arr) = [-6. -7. -5.  0.  4.  5.  3.  2.  1.]\n"
     ]
    }
   ],
   "source": [
    "print(\"np.ceil(arr) =\",np.ceil(arr))\n",
    "print(\"np.floor(arr) =\",np.floor(arr))"
   ]
  },
  {
   "cell_type": "markdown",
   "metadata": {},
   "source": [
    "9. rint&nbsp;&nbsp;将各个元素值四舍五入到最接近的整数，保留dtype的类型\n"
   ]
  },
  {
   "cell_type": "code",
   "execution_count": 34,
   "metadata": {},
   "outputs": [
    {
     "name": "stdout",
     "output_type": "stream",
     "text": [
      "np.rint(arr) = [-5. -6. -5.  0.  4.  5.  3.  2.  1.]\n"
     ]
    }
   ],
   "source": [
    "print(\"np.rint(arr) =\",np.rint(arr))"
   ]
  },
  {
   "cell_type": "markdown",
   "metadata": {},
   "source": [
    "10. modf&nbsp;&nbsp;将数组中元素的小数位和整数位以两部分独立数组的形式返回"
   ]
  },
  {
   "cell_type": "code",
   "execution_count": 35,
   "metadata": {},
   "outputs": [
    {
     "name": "stdout",
     "output_type": "stream",
     "text": [
      "np.modf(arr) = (array([-0.3, -0.2, -0. ,  0. ,  0.2,  0. ,  0. ,  0. ,  0. ]), array([-5., -6., -5.,  0.,  4.,  5.,  3.,  2.,  1.]))\n"
     ]
    }
   ],
   "source": [
    "print(\"np.modf(arr) =\",np.modf(arr)) # 返回一个元组"
   ]
  },
  {
   "cell_type": "markdown",
   "metadata": {},
   "source": [
    "11. isnan&nbsp;&nbsp;返回一个表示“那些值是NaN(不是一个数字)”的布尔类型数组"
   ]
  },
  {
   "cell_type": "code",
   "execution_count": 36,
   "metadata": {},
   "outputs": [
    {
     "name": "stdout",
     "output_type": "stream",
     "text": [
      "np.isnan(arr) = [False False False False False False False False False]\n"
     ]
    }
   ],
   "source": [
    "print(\"np.isnan(arr) =\",np.isnan(arr))"
   ]
  },
  {
   "cell_type": "markdown",
   "metadata": {},
   "source": [
    "12. isfinite、isinf&nbsp;&nbsp;分别一个表示”那些元素是有穷的(非inf、非NaN)”或者“那些元素是无穷的”的布尔型数组"
   ]
  },
  {
   "cell_type": "code",
   "execution_count": 37,
   "metadata": {},
   "outputs": [
    {
     "name": "stdout",
     "output_type": "stream",
     "text": [
      "np.isfinite(arr) = [ True  True  True  True  True  True  True  True  True]\n",
      "np.isinf(arr) = [False False False False False False False False False]\n"
     ]
    }
   ],
   "source": [
    "print(\"np.isfinite(arr) =\",np.isfinite(arr))\n",
    "print(\"np.isinf(arr) =\",np.isinf(arr))"
   ]
  },
  {
   "cell_type": "markdown",
   "metadata": {},
   "source": [
    "13. cos、cosh、sin、sinh、tan、tanh&nbsp;&nbsp;普通以及双曲型三角函数"
   ]
  },
  {
   "cell_type": "code",
   "execution_count": 38,
   "metadata": {},
   "outputs": [
    {
     "name": "stdout",
     "output_type": "stream",
     "text": [
      "np.cos(arr) = [ 0.55437434  0.9965421   0.28366219  1.         -0.49026082  0.28366219\n",
      " -0.9899925  -0.41614684  0.54030231]\n",
      "np.cosh(arr) = [100.17090078 246.37553526  74.20994852   1.          33.35066331\n",
      "  74.20994852  10.067662     3.76219569   1.54308063]\n",
      "np.sin(arr) = [ 0.83226744  0.0830894   0.95892427  0.         -0.87157577 -0.95892427\n",
      "  0.14112001  0.90929743  0.84147098]\n",
      "np.sinh(arr) = [-100.16590919 -246.37350583  -74.20321058    0.           33.33566773\n",
      "   74.20321058   10.01787493    3.62686041    1.17520119]\n",
      "np.tan(arr) = [ 1.5012734   0.08337771  3.38051501  0.          1.77777977 -3.38051501\n",
      " -0.14254654 -2.18503986  1.55740772]\n",
      "np.tanh(arr) = [-0.99995017 -0.99999176 -0.9999092   0.          0.99955037  0.9999092\n",
      "  0.99505475  0.96402758  0.76159416]\n"
     ]
    }
   ],
   "source": [
    "print(\"np.cos(arr) =\",np.cos(arr))\n",
    "print(\"np.cosh(arr) =\",np.cosh(arr))\n",
    "print(\"np.sin(arr) =\",np.sin(arr))\n",
    "print(\"np.sinh(arr) =\",np.sinh(arr))\n",
    "print(\"np.tan(arr) =\",np.tan(arr))\n",
    "print(\"np.tanh(arr) =\",np.tanh(arr))"
   ]
  },
  {
   "cell_type": "markdown",
   "metadata": {},
   "source": [
    "14. arccos、arccosh、arcsin、arcsinh、arctan、arctanh&nbsp;&nbsp;反三角函数"
   ]
  },
  {
   "cell_type": "code",
   "execution_count": 39,
   "metadata": {},
   "outputs": [
    {
     "name": "stdout",
     "output_type": "stream",
     "text": [
      "np.arccos(arr) = [       nan        nan        nan 1.57079633        nan        nan\n",
      "        nan        nan 0.        ]\n",
      "np.arcsin(arr) = [       nan        nan        nan 0.                nan        nan\n",
      "        nan        nan 1.57079633]\n",
      "np.arctan(arr) = [-1.38430943 -1.4108832  -1.37340077  0.          1.33705315  1.37340077\n",
      "  1.24904577  1.10714872  0.78539816]\n"
     ]
    },
    {
     "name": "stderr",
     "output_type": "stream",
     "text": [
      "c:\\python\\python36\\lib\\site-packages\\ipykernel_launcher.py:1: RuntimeWarning: invalid value encountered in arccos\n",
      "  \"\"\"Entry point for launching an IPython kernel.\n",
      "c:\\python\\python36\\lib\\site-packages\\ipykernel_launcher.py:2: RuntimeWarning: invalid value encountered in arcsin\n",
      "  \n"
     ]
    }
   ],
   "source": [
    "print(\"np.arccos(arr) =\",np.arccos(arr))\n",
    "print(\"np.arcsin(arr) =\",np.arcsin(arr))\n",
    "print(\"np.arctan(arr) =\",np.arctan(arr))"
   ]
  },
  {
   "cell_type": "markdown",
   "metadata": {},
   "source": [
    "15. mod &nbsp;&nbsp;元素级的取模"
   ]
  },
  {
   "cell_type": "code",
   "execution_count": 41,
   "metadata": {},
   "outputs": [],
   "source": [
    "arr1 = np.array([1,2,8,1])\n",
    "arr2 = np.array([4,5,6,0])"
   ]
  },
  {
   "cell_type": "code",
   "execution_count": 48,
   "metadata": {},
   "outputs": [
    {
     "name": "stdout",
     "output_type": "stream",
     "text": [
      "np.mod(arr2,arr1) = [0 1 6 0]\n"
     ]
    }
   ],
   "source": [
    "print(\"np.mod(arr2,arr1) =\",np.mod(arr2,arr1))  # 4%1 = 0;  5%2 = 1; 6%8 = 6; 0%1 = 0;  "
   ]
  },
  {
   "cell_type": "markdown",
   "metadata": {},
   "source": [
    "16. dot&nbsp;&nbsp;求两个数组的点积"
   ]
  },
  {
   "cell_type": "code",
   "execution_count": 52,
   "metadata": {},
   "outputs": [
    {
     "name": "stdout",
     "output_type": "stream",
     "text": [
      "np.dot(arr2,arr1) = 62\n"
     ]
    }
   ],
   "source": [
    "print(\"np.dot(arr2,arr1) =\",np.dot(arr1,arr2))  # 4*1+5*2+6*8+0*1 = 62;  "
   ]
  },
  {
   "cell_type": "markdown",
   "metadata": {},
   "source": [
    "17. greater、less、equal、&nbsp;&nbsp;执行元素级别的比较运算，最终返回一个布尔型数组"
   ]
  },
  {
   "cell_type": "code",
   "execution_count": 55,
   "metadata": {},
   "outputs": [
    {
     "name": "stdout",
     "output_type": "stream",
     "text": [
      "np.greater(arr1,arr2) = [False False  True  True]\n",
      "np.less(arr1,arr2) = [ True  True False False]\n",
      "np.equal(arr1,arr2) = [False False False False]\n"
     ]
    }
   ],
   "source": [
    "print(\"np.greater(arr1,arr2) =\",np.greater(arr1,arr2))\n",
    "print(\"np.less(arr1,arr2) =\",np.less(arr1,arr2))\n",
    "print(\"np.equal(arr1,arr2) =\",np.equal(arr1,arr2))"
   ]
  },
  {
   "cell_type": "markdown",
   "metadata": {},
   "source": [
    "18. logical_and、logical_or、logical_xor&nbsp;&nbsp;执行元素级别的布尔逻辑运算，相当于中缀运算符&、|、^"
   ]
  },
  {
   "cell_type": "code",
   "execution_count": 58,
   "metadata": {},
   "outputs": [
    {
     "name": "stdout",
     "output_type": "stream",
     "text": [
      "np.logical_and(arr1,arr2) = [ True  True  True False]\n",
      "np.logical_or(arr1,arr2) = [ True  True  True  True]\n",
      "np.logical_xor(arr1,arr2) = [False False False  True]\n"
     ]
    }
   ],
   "source": [
    "print(\"np.logical_and(arr1,arr2) =\",np.logical_and(arr1,arr2))\n",
    "print(\"np.logical_or(arr1,arr2) =\",np.logical_or(arr1,arr2))\n",
    "print(\"np.logical_xor(arr1,arr2) =\",np.logical_xor(arr1,arr2))"
   ]
  },
  {
   "cell_type": "markdown",
   "metadata": {},
   "source": [
    "19. power&nbsp;&nbsp;求解对数组中的每个元素进行给定次数的指数值."
   ]
  },
  {
   "cell_type": "code",
   "execution_count": 67,
   "metadata": {},
   "outputs": [
    {
     "name": "stdout",
     "output_type": "stream",
     "text": [
      "arr1           = [1 2 8 1]\n",
      "np.power(arr1) = [ 1  4 64  1]\n"
     ]
    }
   ],
   "source": [
    "print(\"arr1           =\",arr1)\n",
    "print(\"np.power(arr1) =\",np.power(arr1,2))"
   ]
  },
  {
   "cell_type": "markdown",
   "metadata": {},
   "source": [
    "### 6、聚合函数"
   ]
  },
  {
   "cell_type": "markdown",
   "metadata": {},
   "source": [
    "聚合函数是对一组值(eg一个数组)进行操作，返回一个单一值作为结果的函数。当然聚合函数也可以指定对某个具体的轴进行数据聚合操作；常将的聚合操作有：平均值、最大值、最小值、方差等等"
   ]
  },
  {
   "cell_type": "code",
   "execution_count": 76,
   "metadata": {},
   "outputs": [
    {
     "name": "stdout",
     "output_type": "stream",
     "text": [
      "arr = [[ 1  2  3  4]\n",
      " [ 7  8  9 10]]\n",
      "arr.min = <built-in method min of numpy.ndarray object at 0x0000028768C091C0>\n",
      "arr.max = <built-in method max of numpy.ndarray object at 0x0000028768C091C0>\n",
      "arr.mean= <built-in method mean of numpy.ndarray object at 0x0000028768C091C0>\n",
      "arr.std = <built-in method std of numpy.ndarray object at 0x0000028768C091C0>\n",
      "根据方差公式计算的方差值为: 3.2015621187164243\n"
     ]
    }
   ],
   "source": [
    "arr = np.array([[1,2,3,4],[7,8,9,10]])\n",
    "print(\"arr =\",arr)\n",
    "print(\"arr.min =\",arr.min)\n",
    "print(\"arr.max =\",arr.max)\n",
    "print(\"arr.mean=\",arr.mean)\n",
    "print(\"arr.std =\",arr.std)\n",
    "print(u\"根据方差公式计算的方差值为:\",np.sqrt(np.power(arr-arr.mean(),2).sum()/arr.size))"
   ]
  },
  {
   "cell_type": "code",
   "execution_count": 78,
   "metadata": {},
   "outputs": [],
   "source": [
    "arr = np.array([\n",
    "    [\n",
    "        1,3,5,9\n",
    "    ],\n",
    "    [\n",
    "        2,4,6,8\n",
    "    ],\n",
    "    [\n",
    "        -5,-6,-8,-2\n",
    "    ]\n",
    "])"
   ]
  },
  {
   "cell_type": "markdown",
   "metadata": {},
   "source": [
    "* 二维数组的情况下，axis=0表示对同列的数据进行聚合；axis=1表示对行的数据进行聚合"
   ]
  },
  {
   "cell_type": "code",
   "execution_count": 85,
   "metadata": {},
   "outputs": [
    {
     "name": "stdout",
     "output_type": "stream",
     "text": [
      "=====arr=====\n",
      "[[ 1  3  5  9]\n",
      " [ 2  4  6  8]\n",
      " [-5 -6 -8 -2]]\n",
      "arr.mean(axis=0): [-0.66666667  0.33333333  1.          5.        ]\n",
      "arr.mean(axis=1): [ 4.5   5.   -5.25]\n",
      "arr.sum(axis=0): [ 18  20 -21]\n",
      "arr.max(axis=0): [ 9  8 -2]\n",
      "arr.std(axis=0): [2.95803989 2.23606798 2.16506351]\n"
     ]
    }
   ],
   "source": [
    "print(\"=====arr=====\")\n",
    "print(arr)\n",
    "print(\"arr.mean(axis=0):\",arr.mean(axis=0)) # axis = 0 对同列上的元素进行操作\n",
    "print(\"arr.mean(axis=1):\",arr.mean(axis=1)) # axis = 1 对同行上的元素进行操作\n",
    "print(\"arr.sum(axis=0):\",arr.sum(axis=1))\n",
    "print(\"arr.max(axis=0):\",arr.max(axis=1))\n",
    "print(\"arr.std(axis=0):\",arr.std(axis=1))"
   ]
  },
  {
   "cell_type": "markdown",
   "metadata": {},
   "source": [
    "7. np.where函数"
   ]
  },
  {
   "cell_type": "markdown",
   "metadata": {},
   "source": [
    "np.where函数是三元表达式x if condition else y的矢量化版本"
   ]
  },
  {
   "cell_type": "code",
   "execution_count": 94,
   "metadata": {},
   "outputs": [
    {
     "name": "stdout",
     "output_type": "stream",
     "text": [
      "使用python的语法，结果为： [-2.1, -2.2, -2.3, -2.4, -2.5] ;数据类型为: <class 'list'>\n",
      "使用np.where的语法，结果为： [-2.1 -2.2 -2.3 -2.4 -2.5] ;数据类型为: <class 'numpy.ndarray'>\n"
     ]
    }
   ],
   "source": [
    "xarr = np.array([-1.1,-1.2,-1.3,-1.4,-1.5])\n",
    "yarr = np.array([-2.1,-2.2,-2.3,-2.4,-2.5])\n",
    "condition = xarr < yarr\n",
    "result1 = [x if c else y for(x,y,c) in zip(xarr,yarr,condition)]\n",
    "result2 = np.where(condition,xarr,yarr)\n",
    "print(u\"使用python的语法，结果为：\",result1,\";数据类型为:\",type(result1))\n",
    "print(u\"使用np.where的语法，结果为：\",result2,\";数据类型为:\",type(result2))"
   ]
  },
  {
   "cell_type": "code",
   "execution_count": 97,
   "metadata": {},
   "outputs": [
    {
     "name": "stdout",
     "output_type": "stream",
     "text": [
      "原始数组\n",
      "[[1.         2.                nan 4.        ]\n",
      " [4.         5.         6.                nan]\n",
      " [7.         8.         9.                inf]\n",
      " [       inf 2.71828183 3.14159265 4.        ]]\n",
      "\n",
      "结果\n",
      "[[1.         2.         0.         4.        ]\n",
      " [4.         5.         6.         0.        ]\n",
      " [7.         8.         9.         0.        ]\n",
      " [0.         2.71828183 3.14159265 4.        ]]\n"
     ]
    }
   ],
   "source": [
    "arr = np.array([\n",
    "    [1,2,np.NaN,4],\n",
    "    [4,5,6,np.NaN],\n",
    "    [7,8,9,np.inf],\n",
    "    [np.inf,np.e,np.pi,4]\n",
    "])\n",
    "## 得到判断条件\n",
    "condition = np.isnan(arr)|np.isinf(arr)\n",
    "print(\"原始数组\")\n",
    "print(arr)\n",
    "print()\n",
    "print(\"结果\")\n",
    "print(np.where(condition,0,arr))"
   ]
  },
  {
   "cell_type": "markdown",
   "metadata": {},
   "source": [
    "### 8、np.unique函数"
   ]
  },
  {
   "cell_type": "markdown",
   "metadata": {},
   "source": [
    "np.unique函数的主要作用是将数组中的元素进行去重操作(也就是只保存不重复的数据)"
   ]
  },
  {
   "cell_type": "code",
   "execution_count": 103,
   "metadata": {},
   "outputs": [
    {
     "name": "stdout",
     "output_type": "stream",
     "text": [
      "=====原始数据=====\n",
      "图书 数码 小吃 数码 女装 小吃 美食 男装 数码 \n",
      "=====去重后的数据=====\n",
      "图书 女装 小吃 数码 男装 美食 \n"
     ]
    }
   ],
   "source": [
    "arr = np.array([u'图书',u'数码',u'小吃',u'数码',u'女装',u'小吃',u'美食',u'男装',u'数码'])\n",
    "print(\"=====原始数据=====\")\n",
    "for a in arr:\n",
    "    print(a,end=\" \")\n",
    "print()\n",
    "\n",
    "arr2 = np.unique(arr)\n",
    "print(\"=====去重后的数据=====\")\n",
    "for a in arr2:\n",
    "    print(a,end = \" \")\n",
    "print()"
   ]
  }
 ],
 "metadata": {
  "kernelspec": {
   "display_name": "Python 3",
   "language": "python",
   "name": "python3"
  },
  "language_info": {
   "codemirror_mode": {
    "name": "ipython",
    "version": 3
   },
   "file_extension": ".py",
   "mimetype": "text/x-python",
   "name": "python",
   "nbconvert_exporter": "python",
   "pygments_lexer": "ipython3",
   "version": "3.6.3"
  }
 },
 "nbformat": 4,
 "nbformat_minor": 2
}
